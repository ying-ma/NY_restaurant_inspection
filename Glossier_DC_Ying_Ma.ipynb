{
 "cells": [
  {
   "cell_type": "markdown",
   "metadata": {},
   "source": [
    "# Glossier Analytics Exam\n",
    "- From: Ying Ma\n",
    "- Created: 07/26/2018\n",
    "- Dataset: NYC Restaurant Grades"
   ]
  },
  {
   "cell_type": "markdown",
   "metadata": {},
   "source": [
    "## Table of contents:\n",
    "\n",
    "1. [Introduction](#P1)\n",
    "2. [Load packages and data tables](#P2)\n",
    "3. [Feature Engineering](#P3)\n",
    "    1. [Cuisine](#P31)\n",
    "    2. [Violation Categories](#P32)\n",
    "    3. [Chain Restaurants](#P33)\n",
    "4. [Creat Targets](#P4)\n",
    "5. [Modeling](#P5)\n",
    "    1. [Random Forest Classifier](#P51)\n",
    "    2. [Logistic Regression Classifier](#52)\n",
    "6. [Conclusions](#P6)\n"
   ]
  },
  {
   "cell_type": "markdown",
   "metadata": {},
   "source": [
    "# Introduction <a name=\"P1\"></a>\n",
    "This dataset contains inspection ratings for NYC restaurants and various attributes regarding the restaurants and their inspections. \n",
    "While there are various aspects of approaching this dataset, I will focus on a single direction in this analysis, which is to help the inspectors prioritize the inspection process.<br>\n",
    "\n",
    "According to the [NYC restaurant grades guidelines](https://www1.nyc.gov/site/doh/services/restaurant-grades.page), the Health Department inspects about 24,000 restaurants per year to monitor compliance with City and State food safety regulations. Inspectors check for food handling, food temperature, personal hygiene, etc., and each violation earns a certain number of points. Restaurants with a total score between 0 and 13 points earn an A, those will 14 to 27 points receive a B and those with 28 or more a C. Therefore, the higher the score, the worse performance the restaurant has. When the score reaches 28 or grade C, the Health Department will revisit the restaurant on a monthly basis until the condition is improved. <br>\n",
    "Therefore, it's very costly for both the restaurants and the Health Department if the restaurant's grade decreased to C. My goal is to identify the restaurants that are at higher risk of falling to grade C and by conducting inspection ahead of scheduled time, hopefully the further degrading will be prevented or hindered."
   ]
  },
  {
   "cell_type": "markdown",
   "metadata": {},
   "source": [
    "# Loading packages and data tables <a name=\"P2\"></a>\n",
    "Take an initial look at all the viariables and features in the data set"
   ]
  },
  {
   "cell_type": "code",
   "execution_count": 1,
   "metadata": {},
   "outputs": [],
   "source": [
    "import glob\n",
    "import matplotlib.pyplot as plt\n",
    "import numpy as np \n",
    "import os\n",
    "import pandas as pd\n",
    "\n",
    "from sklearn.ensemble import RandomForestClassifier\n",
    "from sklearn.linear_model import LogisticRegression\n",
    "from sklearn.model_selection import train_test_split\n",
    "from sklearn.metrics import roc_curve, roc_auc_score\n",
    "from sklearn.preprocessing import StandardScaler\n",
    "\n",
    "from os import listdir "
   ]
  },
  {
   "cell_type": "code",
   "execution_count": 2,
   "metadata": {},
   "outputs": [],
   "source": [
    "path = '/home/ying/datachallenge/glossier/assignment_files'\n",
    "filelist = glob.glob(os.path.join(path, '*'))"
   ]
  },
  {
   "cell_type": "code",
   "execution_count": 3,
   "metadata": {},
   "outputs": [],
   "source": [
    "# list all the files in folder excluding hidden folder\n",
    "filelist = [f for f in os.listdir(path) if not f.startswith('.')]"
   ]
  },
  {
   "cell_type": "code",
   "execution_count": 4,
   "metadata": {},
   "outputs": [
    {
     "data": {
      "text/plain": [
       "['restaurant_names.tsv',\n",
       " 'cuisine_names.tsv',\n",
       " 'restaurant_violations.tsv',\n",
       " 'violation_names.tsv',\n",
       " 'restaurant_attributes.tsv',\n",
       " 'violation_names_edit.tsv',\n",
       " 'borough_names.tsv']"
      ]
     },
     "execution_count": 4,
     "metadata": {},
     "output_type": "execute_result"
    }
   ],
   "source": [
    "filelist"
   ]
  },
  {
   "cell_type": "code",
   "execution_count": 5,
   "metadata": {},
   "outputs": [],
   "source": [
    "os.chdir(path)\n",
    "df = [pd.read_csv(item, names=[item[:-4]]) for item in filelist]"
   ]
  },
  {
   "cell_type": "code",
   "execution_count": 6,
   "metadata": {},
   "outputs": [],
   "source": [
    "# open violation_names_edit which has additional information of violation category\n",
    "restaurant_names = pd.read_csv(filelist[0], sep='\\t', header=0)\n",
    "cuisine_names = pd.read_csv(filelist[1], sep='\\t', header=0)\n",
    "restaurant_violations = pd.read_csv(filelist[2], sep='\\t', header=0)\n",
    "violation_names = pd.read_csv(filelist[5], sep='\\t', header=0)\n",
    "restaurant_attributes = pd.read_csv(filelist[4], sep='\\t', header=0)\n",
    "borough_names = pd.read_csv(filelist[6], sep='\\t', header=0)"
   ]
  },
  {
   "cell_type": "code",
   "execution_count": 7,
   "metadata": {},
   "outputs": [
    {
     "data": {
      "text/html": [
       "<div>\n",
       "<style scoped>\n",
       "    .dataframe tbody tr th:only-of-type {\n",
       "        vertical-align: middle;\n",
       "    }\n",
       "\n",
       "    .dataframe tbody tr th {\n",
       "        vertical-align: top;\n",
       "    }\n",
       "\n",
       "    .dataframe thead th {\n",
       "        text-align: right;\n",
       "    }\n",
       "</style>\n",
       "<table border=\"1\" class=\"dataframe\">\n",
       "  <thead>\n",
       "    <tr style=\"text-align: right;\">\n",
       "      <th></th>\n",
       "      <th>id</th>\n",
       "      <th>restaurant_name</th>\n",
       "    </tr>\n",
       "  </thead>\n",
       "  <tbody>\n",
       "    <tr>\n",
       "      <th>0</th>\n",
       "      <td>798508cbccfdb4ff48b904994493f852</td>\n",
       "      <td>CHICKPEA</td>\n",
       "    </tr>\n",
       "    <tr>\n",
       "      <th>1</th>\n",
       "      <td>9ef9fe39edad1f78092cb7ef54817fff</td>\n",
       "      <td>NOEL PIZZA</td>\n",
       "    </tr>\n",
       "    <tr>\n",
       "      <th>2</th>\n",
       "      <td>a7232afc1f9c3b18e8458973d104d999</td>\n",
       "      <td>SOCIAL CIRCLE</td>\n",
       "    </tr>\n",
       "    <tr>\n",
       "      <th>3</th>\n",
       "      <td>ba98ba67351c28ab8ad61bc97cc91e0d</td>\n",
       "      <td>ANGELO'S PIZZA</td>\n",
       "    </tr>\n",
       "    <tr>\n",
       "      <th>4</th>\n",
       "      <td>b0dc9ac802ae34776d7ed69fb926564b</td>\n",
       "      <td>JUST SALAD</td>\n",
       "    </tr>\n",
       "  </tbody>\n",
       "</table>\n",
       "</div>"
      ],
      "text/plain": [
       "                                 id restaurant_name\n",
       "0  798508cbccfdb4ff48b904994493f852        CHICKPEA\n",
       "1  9ef9fe39edad1f78092cb7ef54817fff      NOEL PIZZA\n",
       "2  a7232afc1f9c3b18e8458973d104d999   SOCIAL CIRCLE\n",
       "3  ba98ba67351c28ab8ad61bc97cc91e0d  ANGELO'S PIZZA\n",
       "4  b0dc9ac802ae34776d7ed69fb926564b      JUST SALAD"
      ]
     },
     "execution_count": 7,
     "metadata": {},
     "output_type": "execute_result"
    }
   ],
   "source": [
    "restaurant_names.head()"
   ]
  },
  {
   "cell_type": "code",
   "execution_count": 8,
   "metadata": {},
   "outputs": [
    {
     "data": {
      "text/html": [
       "<div>\n",
       "<style scoped>\n",
       "    .dataframe tbody tr th:only-of-type {\n",
       "        vertical-align: middle;\n",
       "    }\n",
       "\n",
       "    .dataframe tbody tr th {\n",
       "        vertical-align: top;\n",
       "    }\n",
       "\n",
       "    .dataframe thead th {\n",
       "        text-align: right;\n",
       "    }\n",
       "</style>\n",
       "<table border=\"1\" class=\"dataframe\">\n",
       "  <thead>\n",
       "    <tr style=\"text-align: right;\">\n",
       "      <th></th>\n",
       "      <th>restaurant_id</th>\n",
       "      <th>borough_id</th>\n",
       "      <th>building</th>\n",
       "      <th>street</th>\n",
       "      <th>zipcode</th>\n",
       "      <th>cuisine_id</th>\n",
       "    </tr>\n",
       "  </thead>\n",
       "  <tbody>\n",
       "    <tr>\n",
       "      <th>0</th>\n",
       "      <td>abb91d14a8c2e46a56ac3fb8d7b33d44</td>\n",
       "      <td>2</td>\n",
       "      <td>10</td>\n",
       "      <td>GRAND ARMY PLZ</td>\n",
       "      <td>11238</td>\n",
       "      <td>13</td>\n",
       "    </tr>\n",
       "    <tr>\n",
       "      <th>1</th>\n",
       "      <td>2acd3a862fee955f73cb5b12789eecbc</td>\n",
       "      <td>2</td>\n",
       "      <td>66</td>\n",
       "      <td>SOUTH    2 STREET</td>\n",
       "      <td>11249</td>\n",
       "      <td>47</td>\n",
       "    </tr>\n",
       "    <tr>\n",
       "      <th>2</th>\n",
       "      <td>64db241ec98efba157bfcbdcbdbef664</td>\n",
       "      <td>3</td>\n",
       "      <td>2787</td>\n",
       "      <td>BROADWAY</td>\n",
       "      <td>10025</td>\n",
       "      <td>3</td>\n",
       "    </tr>\n",
       "    <tr>\n",
       "      <th>3</th>\n",
       "      <td>61e0212ce25de6f5dcb5a80aeb8c8705</td>\n",
       "      <td>3</td>\n",
       "      <td>1</td>\n",
       "      <td>E 118TH ST</td>\n",
       "      <td>10029</td>\n",
       "      <td>80</td>\n",
       "    </tr>\n",
       "    <tr>\n",
       "      <th>4</th>\n",
       "      <td>345d4c0f7f0fb6cd70fda3f4ce89bec1</td>\n",
       "      <td>3</td>\n",
       "      <td>15</td>\n",
       "      <td>EAST   15 STREET</td>\n",
       "      <td>10003</td>\n",
       "      <td>47</td>\n",
       "    </tr>\n",
       "  </tbody>\n",
       "</table>\n",
       "</div>"
      ],
      "text/plain": [
       "                      restaurant_id  borough_id building             street  \\\n",
       "0  abb91d14a8c2e46a56ac3fb8d7b33d44           2       10     GRAND ARMY PLZ   \n",
       "1  2acd3a862fee955f73cb5b12789eecbc           2       66  SOUTH    2 STREET   \n",
       "2  64db241ec98efba157bfcbdcbdbef664           3     2787           BROADWAY   \n",
       "3  61e0212ce25de6f5dcb5a80aeb8c8705           3        1         E 118TH ST   \n",
       "4  345d4c0f7f0fb6cd70fda3f4ce89bec1           3       15   EAST   15 STREET   \n",
       "\n",
       "   zipcode  cuisine_id  \n",
       "0    11238          13  \n",
       "1    11249          47  \n",
       "2    10025           3  \n",
       "3    10029          80  \n",
       "4    10003          47  "
      ]
     },
     "execution_count": 8,
     "metadata": {},
     "output_type": "execute_result"
    }
   ],
   "source": [
    "restaurant_attributes.head()"
   ]
  },
  {
   "cell_type": "code",
   "execution_count": 9,
   "metadata": {},
   "outputs": [
    {
     "data": {
      "text/html": [
       "<div>\n",
       "<style scoped>\n",
       "    .dataframe tbody tr th:only-of-type {\n",
       "        vertical-align: middle;\n",
       "    }\n",
       "\n",
       "    .dataframe tbody tr th {\n",
       "        vertical-align: top;\n",
       "    }\n",
       "\n",
       "    .dataframe thead th {\n",
       "        text-align: right;\n",
       "    }\n",
       "</style>\n",
       "<table border=\"1\" class=\"dataframe\">\n",
       "  <thead>\n",
       "    <tr style=\"text-align: right;\">\n",
       "      <th></th>\n",
       "      <th>restaurant_id</th>\n",
       "      <th>violation_id</th>\n",
       "      <th>critical_flag</th>\n",
       "      <th>score</th>\n",
       "      <th>grade</th>\n",
       "      <th>grade_date</th>\n",
       "      <th>record_date</th>\n",
       "    </tr>\n",
       "  </thead>\n",
       "  <tbody>\n",
       "    <tr>\n",
       "      <th>0</th>\n",
       "      <td>5dea6dc2c19cd35d48981d5ad92e6891</td>\n",
       "      <td>47</td>\n",
       "      <td>Not Critical</td>\n",
       "      <td>13.0</td>\n",
       "      <td>A</td>\n",
       "      <td>06/28/2016</td>\n",
       "      <td>05/18/2017</td>\n",
       "    </tr>\n",
       "    <tr>\n",
       "      <th>1</th>\n",
       "      <td>101bb81c5abe4c8a7357eda90ba5c3a8</td>\n",
       "      <td>44</td>\n",
       "      <td>Not Critical</td>\n",
       "      <td>8.0</td>\n",
       "      <td>A</td>\n",
       "      <td>01/13/2016</td>\n",
       "      <td>05/18/2017</td>\n",
       "    </tr>\n",
       "    <tr>\n",
       "      <th>2</th>\n",
       "      <td>414e7d288324ba5c64a84feac998e7e9</td>\n",
       "      <td>16</td>\n",
       "      <td>Critical</td>\n",
       "      <td>12.0</td>\n",
       "      <td>A</td>\n",
       "      <td>10/21/2015</td>\n",
       "      <td>05/18/2017</td>\n",
       "    </tr>\n",
       "    <tr>\n",
       "      <th>3</th>\n",
       "      <td>05d67da58216a1f47ca3e301e273f6ed</td>\n",
       "      <td>47</td>\n",
       "      <td>Not Critical</td>\n",
       "      <td>11.0</td>\n",
       "      <td>A</td>\n",
       "      <td>05/30/2014</td>\n",
       "      <td>05/18/2017</td>\n",
       "    </tr>\n",
       "    <tr>\n",
       "      <th>4</th>\n",
       "      <td>9ef9fe39edad1f78092cb7ef54817fff</td>\n",
       "      <td>35</td>\n",
       "      <td>Critical</td>\n",
       "      <td>22.0</td>\n",
       "      <td>B</td>\n",
       "      <td>06/09/2015</td>\n",
       "      <td>05/18/2017</td>\n",
       "    </tr>\n",
       "  </tbody>\n",
       "</table>\n",
       "</div>"
      ],
      "text/plain": [
       "                      restaurant_id  violation_id critical_flag  score grade  \\\n",
       "0  5dea6dc2c19cd35d48981d5ad92e6891            47  Not Critical   13.0     A   \n",
       "1  101bb81c5abe4c8a7357eda90ba5c3a8            44  Not Critical    8.0     A   \n",
       "2  414e7d288324ba5c64a84feac998e7e9            16      Critical   12.0     A   \n",
       "3  05d67da58216a1f47ca3e301e273f6ed            47  Not Critical   11.0     A   \n",
       "4  9ef9fe39edad1f78092cb7ef54817fff            35      Critical   22.0     B   \n",
       "\n",
       "   grade_date record_date  \n",
       "0  06/28/2016  05/18/2017  \n",
       "1  01/13/2016  05/18/2017  \n",
       "2  10/21/2015  05/18/2017  \n",
       "3  05/30/2014  05/18/2017  \n",
       "4  06/09/2015  05/18/2017  "
      ]
     },
     "execution_count": 9,
     "metadata": {},
     "output_type": "execute_result"
    }
   ],
   "source": [
    "restaurant_violations.head()"
   ]
  },
  {
   "cell_type": "code",
   "execution_count": 10,
   "metadata": {},
   "outputs": [
    {
     "data": {
      "text/html": [
       "<div>\n",
       "<style scoped>\n",
       "    .dataframe tbody tr th:only-of-type {\n",
       "        vertical-align: middle;\n",
       "    }\n",
       "\n",
       "    .dataframe tbody tr th {\n",
       "        vertical-align: top;\n",
       "    }\n",
       "\n",
       "    .dataframe thead th {\n",
       "        text-align: right;\n",
       "    }\n",
       "</style>\n",
       "<table border=\"1\" class=\"dataframe\">\n",
       "  <thead>\n",
       "    <tr style=\"text-align: right;\">\n",
       "      <th></th>\n",
       "      <th>id</th>\n",
       "      <th>clause1</th>\n",
       "      <th>clause2</th>\n",
       "      <th>violation_description</th>\n",
       "    </tr>\n",
       "  </thead>\n",
       "  <tbody>\n",
       "    <tr>\n",
       "      <th>0</th>\n",
       "      <td>1</td>\n",
       "      <td>NaN</td>\n",
       "      <td>NaN</td>\n",
       "      <td>NaN</td>\n",
       "    </tr>\n",
       "    <tr>\n",
       "      <th>1</th>\n",
       "      <td>4</td>\n",
       "      <td>4.0</td>\n",
       "      <td>J</td>\n",
       "      <td>Appropriately scaled metal stem-type thermomet...</td>\n",
       "    </tr>\n",
       "    <tr>\n",
       "      <th>2</th>\n",
       "      <td>5</td>\n",
       "      <td>1.0</td>\n",
       "      <td>A</td>\n",
       "      <td>Bulb not shielded or shatterproof, in areas wh...</td>\n",
       "    </tr>\n",
       "    <tr>\n",
       "      <th>3</th>\n",
       "      <td>8</td>\n",
       "      <td>1.0</td>\n",
       "      <td>B</td>\n",
       "      <td>Choking first aid\u001a poster not posted. \u001aAlcohol...</td>\n",
       "    </tr>\n",
       "    <tr>\n",
       "      <th>4</th>\n",
       "      <td>10</td>\n",
       "      <td>8.0</td>\n",
       "      <td>B</td>\n",
       "      <td>Covered garbage receptacle not provided or ina...</td>\n",
       "    </tr>\n",
       "  </tbody>\n",
       "</table>\n",
       "</div>"
      ],
      "text/plain": [
       "   id  clause1 clause2                              violation_description\n",
       "0   1      NaN     NaN                                                NaN\n",
       "1   4      4.0       J  Appropriately scaled metal stem-type thermomet...\n",
       "2   5      1.0       A  Bulb not shielded or shatterproof, in areas wh...\n",
       "3   8      1.0       B  Choking first aid\u001a poster not posted. \u001aAlcohol...\n",
       "4  10      8.0       B  Covered garbage receptacle not provided or ina..."
      ]
     },
     "execution_count": 10,
     "metadata": {},
     "output_type": "execute_result"
    }
   ],
   "source": [
    "violation_names.head()"
   ]
  },
  {
   "cell_type": "code",
   "execution_count": 11,
   "metadata": {},
   "outputs": [
    {
     "data": {
      "text/html": [
       "<div>\n",
       "<style scoped>\n",
       "    .dataframe tbody tr th:only-of-type {\n",
       "        vertical-align: middle;\n",
       "    }\n",
       "\n",
       "    .dataframe tbody tr th {\n",
       "        vertical-align: top;\n",
       "    }\n",
       "\n",
       "    .dataframe thead th {\n",
       "        text-align: right;\n",
       "    }\n",
       "</style>\n",
       "<table border=\"1\" class=\"dataframe\">\n",
       "  <thead>\n",
       "    <tr style=\"text-align: right;\">\n",
       "      <th></th>\n",
       "      <th>id</th>\n",
       "      <th>cuisine_description</th>\n",
       "    </tr>\n",
       "  </thead>\n",
       "  <tbody>\n",
       "    <tr>\n",
       "      <th>0</th>\n",
       "      <td>2</td>\n",
       "      <td>African</td>\n",
       "    </tr>\n",
       "    <tr>\n",
       "      <th>1</th>\n",
       "      <td>3</td>\n",
       "      <td>American</td>\n",
       "    </tr>\n",
       "    <tr>\n",
       "      <th>2</th>\n",
       "      <td>6</td>\n",
       "      <td>Australian</td>\n",
       "    </tr>\n",
       "    <tr>\n",
       "      <th>3</th>\n",
       "      <td>7</td>\n",
       "      <td>Bagels/Pretzels</td>\n",
       "    </tr>\n",
       "    <tr>\n",
       "      <th>4</th>\n",
       "      <td>10</td>\n",
       "      <td>Barbecue</td>\n",
       "    </tr>\n",
       "  </tbody>\n",
       "</table>\n",
       "</div>"
      ],
      "text/plain": [
       "   id cuisine_description\n",
       "0   2             African\n",
       "1   3            American\n",
       "2   6          Australian\n",
       "3   7     Bagels/Pretzels\n",
       "4  10            Barbecue"
      ]
     },
     "execution_count": 11,
     "metadata": {},
     "output_type": "execute_result"
    }
   ],
   "source": [
    "cuisine_names.head()"
   ]
  },
  {
   "cell_type": "code",
   "execution_count": 12,
   "metadata": {},
   "outputs": [],
   "source": [
    "# change the time stamp to the right format\n",
    "restaurant_violations.grade_date = pd.to_datetime(restaurant_violations.grade_date)\n",
    "restaurant_violations.record_date = pd.to_datetime(restaurant_violations.record_date)"
   ]
  },
  {
   "cell_type": "markdown",
   "metadata": {},
   "source": [
    "# Feature Engineering <a name=\"P3\"></a>"
   ]
  },
  {
   "cell_type": "markdown",
   "metadata": {},
   "source": [
    "## 1. Cuisine <a name=\"P31\"></a>\n",
    "There are 84 cuisines in total and some of the cuisines do not have a lot of restaurants. To reduce the number of cuisines and simplify this feature, cuisines that are less representative/ have less restaurants are binned together."
   ]
  },
  {
   "cell_type": "markdown",
   "metadata": {},
   "source": [
    "The cumulative curve of restaurant number is plotted as below. This result shows that 27 out of 84 cuisines accounts for over 90% of restaurants in the data set and the rest of 57 cuisines only have 10% of total number of restaurant. Therefore, the rest of 57 cuisines are binned together as 'others'."
   ]
  },
  {
   "cell_type": "code",
   "execution_count": 13,
   "metadata": {},
   "outputs": [],
   "source": [
    "# shorten the really long cuisine name\n",
    "t=cuisine_names.cuisine_description[cuisine_names['cuisine_description'].str.contains(\"Latin\")]\n",
    "cuisine_names.cuisine_description=cuisine_names.cuisine_description.replace(t,'Latin')"
   ]
  },
  {
   "cell_type": "code",
   "execution_count": 14,
   "metadata": {},
   "outputs": [
    {
     "data": {
      "text/plain": [
       "Text(0,0.5,'Restaurant Percentage')"
      ]
     },
     "execution_count": 14,
     "metadata": {},
     "output_type": "execute_result"
    },
    {
     "data": {
      "image/png": "[encoded data removed]",
      "text/plain": [
       "<matplotlib.figure.Figure at 0x7f09954b0d30>"
      ]
     },
     "metadata": {},
     "output_type": "display_data"
    }
   ],
   "source": [
    "cuisine_counts = list(restaurant_attributes.cuisine_id.value_counts())\n",
    "cum_cuisine = np.cumsum(cuisine_counts)/len(restaurant_attributes)\n",
    "plt.plot(cum_cuisine,'.')\n",
    "plt.plot([27,27],[0.2,0.9],'k--')\n",
    "plt.plot([0,27],[0.9,0.9],'k--')\n",
    "plt.title('Cumulative number of restaurant')\n",
    "plt.xlabel('Cuisine')\n",
    "plt.ylabel('Restaurant Percentage')"
   ]
  },
  {
   "cell_type": "code",
   "execution_count": 15,
   "metadata": {},
   "outputs": [],
   "source": [
    "c_name, c_counts = np.unique(restaurant_attributes.cuisine_id, return_counts=True)\n",
    "cuisine_list = c_name[c_counts>cuisine_counts[np.argwhere(cum_cuisine>0.9)[0][0]-1]]"
   ]
  },
  {
   "cell_type": "code",
   "execution_count": 16,
   "metadata": {},
   "outputs": [],
   "source": [
    "cuisine_name = []\n",
    "for i in range(len(restaurant_attributes)):\n",
    "    if restaurant_attributes.cuisine_id.loc[i] in cuisine_list:\n",
    "        cuisine_name.append(list(cuisine_names.cuisine_description.loc[cuisine_names.id ==restaurant_attributes.cuisine_id.loc[i]])[0])\n",
    "    else: cuisine_name.append('Others')"
   ]
  },
  {
   "cell_type": "code",
   "execution_count": 17,
   "metadata": {},
   "outputs": [],
   "source": [
    "restaurant_attributes['cuisine_name']= cuisine_name"
   ]
  },
  {
   "cell_type": "code",
   "execution_count": 18,
   "metadata": {},
   "outputs": [
    {
     "data": {
      "text/plain": [
       "<matplotlib.axes._subplots.AxesSubplot at 0x7f09954b0908>"
      ]
     },
     "execution_count": 18,
     "metadata": {},
     "output_type": "execute_result"
    },
    {
     "data": {
      "image/png": "[encoded data removed]",
      "text/plain": [
       "<matplotlib.figure.Figure at 0x7f09954b0ac8>"
      ]
     },
     "metadata": {},
     "output_type": "display_data"
    }
   ],
   "source": [
    "restaurant_attributes.cuisine_name.value_counts(ascending=True).plot(kind='barh', figsize = (8,8))"
   ]
  },
  {
   "cell_type": "code",
   "execution_count": 19,
   "metadata": {},
   "outputs": [
    {
     "data": {
      "text/html": [
       "<div>\n",
       "<style scoped>\n",
       "    .dataframe tbody tr th:only-of-type {\n",
       "        vertical-align: middle;\n",
       "    }\n",
       "\n",
       "    .dataframe tbody tr th {\n",
       "        vertical-align: top;\n",
       "    }\n",
       "\n",
       "    .dataframe thead th {\n",
       "        text-align: right;\n",
       "    }\n",
       "</style>\n",
       "<table border=\"1\" class=\"dataframe\">\n",
       "  <thead>\n",
       "    <tr style=\"text-align: right;\">\n",
       "      <th></th>\n",
       "      <th>restaurant_id</th>\n",
       "      <th>borough_id</th>\n",
       "      <th>building</th>\n",
       "      <th>street</th>\n",
       "      <th>zipcode</th>\n",
       "      <th>cuisine_id</th>\n",
       "      <th>cuisine_name</th>\n",
       "    </tr>\n",
       "  </thead>\n",
       "  <tbody>\n",
       "    <tr>\n",
       "      <th>0</th>\n",
       "      <td>abb91d14a8c2e46a56ac3fb8d7b33d44</td>\n",
       "      <td>2</td>\n",
       "      <td>10</td>\n",
       "      <td>GRAND ARMY PLZ</td>\n",
       "      <td>11238</td>\n",
       "      <td>13</td>\n",
       "      <td>CafÃ©/Coffee/Tea</td>\n",
       "    </tr>\n",
       "    <tr>\n",
       "      <th>1</th>\n",
       "      <td>2acd3a862fee955f73cb5b12789eecbc</td>\n",
       "      <td>2</td>\n",
       "      <td>66</td>\n",
       "      <td>SOUTH    2 STREET</td>\n",
       "      <td>11249</td>\n",
       "      <td>47</td>\n",
       "      <td>Japanese</td>\n",
       "    </tr>\n",
       "    <tr>\n",
       "      <th>2</th>\n",
       "      <td>64db241ec98efba157bfcbdcbdbef664</td>\n",
       "      <td>3</td>\n",
       "      <td>2787</td>\n",
       "      <td>BROADWAY</td>\n",
       "      <td>10025</td>\n",
       "      <td>3</td>\n",
       "      <td>American</td>\n",
       "    </tr>\n",
       "    <tr>\n",
       "      <th>3</th>\n",
       "      <td>61e0212ce25de6f5dcb5a80aeb8c8705</td>\n",
       "      <td>3</td>\n",
       "      <td>1</td>\n",
       "      <td>E 118TH ST</td>\n",
       "      <td>10029</td>\n",
       "      <td>80</td>\n",
       "      <td>Others</td>\n",
       "    </tr>\n",
       "    <tr>\n",
       "      <th>4</th>\n",
       "      <td>345d4c0f7f0fb6cd70fda3f4ce89bec1</td>\n",
       "      <td>3</td>\n",
       "      <td>15</td>\n",
       "      <td>EAST   15 STREET</td>\n",
       "      <td>10003</td>\n",
       "      <td>47</td>\n",
       "      <td>Japanese</td>\n",
       "    </tr>\n",
       "  </tbody>\n",
       "</table>\n",
       "</div>"
      ],
      "text/plain": [
       "                      restaurant_id  borough_id building             street  \\\n",
       "0  abb91d14a8c2e46a56ac3fb8d7b33d44           2       10     GRAND ARMY PLZ   \n",
       "1  2acd3a862fee955f73cb5b12789eecbc           2       66  SOUTH    2 STREET   \n",
       "2  64db241ec98efba157bfcbdcbdbef664           3     2787           BROADWAY   \n",
       "3  61e0212ce25de6f5dcb5a80aeb8c8705           3        1         E 118TH ST   \n",
       "4  345d4c0f7f0fb6cd70fda3f4ce89bec1           3       15   EAST   15 STREET   \n",
       "\n",
       "   zipcode  cuisine_id      cuisine_name  \n",
       "0    11238          13  CafÃ©/Coffee/Tea  \n",
       "1    11249          47          Japanese  \n",
       "2    10025           3          American  \n",
       "3    10029          80            Others  \n",
       "4    10003          47          Japanese  "
      ]
     },
     "execution_count": 19,
     "metadata": {},
     "output_type": "execute_result"
    }
   ],
   "source": [
    "restaurant_attributes.head(5)"
   ]
  },
  {
   "cell_type": "markdown",
   "metadata": {},
   "source": [
    "## 2. Violation Categories <a name=\"P32\"></a>\n",
    "According to the violation_names, there are 67 different types of violations. These violations can be further classified as critical and non-critical violations. I searched online to find more information about how the violations are graded and scored. From this [self-inspection worksheet](https://www1.nyc.gov/assets/doh/downloads/pdf/rii/self-inspection-worksheet.pdf), the violations can be further separated into 10 categories.\n"
   ]
  },
  {
   "cell_type": "markdown",
   "metadata": {},
   "source": [
    "Category 1-7 are critical violations, and category 8-10 are non-critical violations.\n",
    "\n",
    "- Category 1 (2 items): General Safety\n",
    "- Category 2 (10 items): Food Temperature\n",
    "- Category 3 (7 items): Food Source\n",
    "- Category 4 (15 items): Food Protection\n",
    "- Category 5 (9 items): Facility Design\n",
    "- Category 6 (9 items): Personal Hygiene and other Food Protection\n",
    "- Category 7 (1 item): Other Criticals\n",
    "- Category 8 (3 items): Vermin/Garbage\n",
    "- Category 9 (3 items): Food Source\n",
    "- Category 10(10 items): Facility Maintenance"
   ]
  },
  {
   "cell_type": "markdown",
   "metadata": {},
   "source": [
    "To visualize how the violation category related to the grade, I plotted the counts of violation categories associated with each grade, also normalized the counts to the total violation number of each grade."
   ]
  },
  {
   "cell_type": "code",
   "execution_count": 20,
   "metadata": {},
   "outputs": [],
   "source": [
    "# join the tables together to get the categories information\n",
    "restaurant_violations = restaurant_violations.join(violation_names[['clause1','id']].set_index('id'), on='violation_id') "
   ]
  },
  {
   "cell_type": "code",
   "execution_count": 21,
   "metadata": {},
   "outputs": [],
   "source": [
    "violation_grid = np.arange(1,11)\n",
    "grade_A = restaurant_violations.clause1.loc[restaurant_violations.grade=='A']\n",
    "grade_B = restaurant_violations.clause1.loc[restaurant_violations.grade=='B'] \n",
    "grade_C = restaurant_violations.clause1.loc[restaurant_violations.grade=='C'] "
   ]
  },
  {
   "cell_type": "code",
   "execution_count": 22,
   "metadata": {},
   "outputs": [],
   "source": [
    "# Count the violation for each grade level\n",
    "count_A = []\n",
    "count_B = []\n",
    "count_C = []\n",
    "for i in violation_grid:\n",
    "    count_A.append(sum(grade_A == i))\n",
    "    count_B.append(sum(grade_B == i))\n",
    "    count_C.append(sum(grade_C == i))"
   ]
  },
  {
   "cell_type": "code",
   "execution_count": 42,
   "metadata": {},
   "outputs": [
    {
     "data": {
      "image/png": "[encoded data removed]",
      "text/plain": [
       "<matplotlib.figure.Figure at 0x7f0996f1a1d0>"
      ]
     },
     "metadata": {},
     "output_type": "display_data"
    }
   ],
   "source": [
    "barWidth = 0.25\n",
    "\n",
    "r1 = violation_grid\n",
    "r2 = [x + barWidth for x in r1]\n",
    "r3 = [x + barWidth for x in r2]\n",
    "\n",
    "f,ax = plt.subplots(1,2,figsize = (15,5))\n",
    "# Make the plot\n",
    "ax[0].bar(r1, count_A,  width=barWidth, edgecolor='white', label='Grade A')\n",
    "ax[0].bar(r2, count_B,  width=barWidth, edgecolor='white', label='Grade B')\n",
    "ax[0].bar(r3, count_C,  width=barWidth, edgecolor='white', label='Grade C')\n",
    "ax[0].legend()\n",
    "ax[0].set_xlabel('Violation Category')\n",
    "ax[0].set_ylabel('Violation Count')\n",
    "ax[0].set_title('Violation across Categories')\n",
    "\n",
    "ax[1].bar(r1, [i/sum(count_A) for i in count_A],  width=barWidth, edgecolor='white', label='Grade A')\n",
    "ax[1].bar(r2, [i/sum(count_B) for i in count_B],  width=barWidth, edgecolor='white', label='Grade B')\n",
    "ax[1].bar(r3, [i/sum(count_C) for i in count_C],  width=barWidth, edgecolor='white', label='Grade C')\n",
    "ax[1].legend()\n",
    "ax[1].set_xlabel('Violation Category')\n",
    "ax[1].set_ylabel('Violation Count Percentage')\n",
    "ax[1].set_title('Normalized Violation across Categories')\n",
    "plt.tight_layout()"
   ]
  },
  {
   "cell_type": "markdown",
   "metadata": {},
   "source": [
    "- The plot on the left shows that most of the violations lie in category 2, 4, 6, 8 and 10. Therefore, the inspector should pay more attention to these categories. \n",
    "- The raw count of grade A is much higher than the rest, which suggests there're much more grade A restaurants than grade B and C.\n",
    "- The normalized plot on the right shows that lower graded restaurant (B and C) have a higher tendency of violating category 2, 4 and 8, while grade A restaurants tends to make more non-critical violation, such as category 10."
   ]
  },
  {
   "cell_type": "markdown",
   "metadata": {},
   "source": [
    "## 3. Chain restaurants <a name=\"P33\"></a>\n",
    "Around 6k of dupliates appear in the restaurant_name file, which indicates these restaurants have the same name and hence are chain restaurants. In here, I created a feature that identifies these chain restaurants."
   ]
  },
  {
   "cell_type": "markdown",
   "metadata": {},
   "source": [
    "Here's some examples of these chain restaurants."
   ]
  },
  {
   "cell_type": "code",
   "execution_count": 24,
   "metadata": {},
   "outputs": [
    {
     "data": {
      "text/plain": [
       "DUNKIN' DONUTS                    407\n",
       "SUBWAY                            368\n",
       "STARBUCKS                         283\n",
       "MCDONALD'S                        203\n",
       "DUNKIN' DONUTS, BASKIN ROBBINS    111\n",
       "KENNEDY FRIED CHICKEN              92\n",
       "DOMINO'S                           84\n",
       "BURGER KING                        83\n",
       "POPEYES LOUISIANA KITCHEN          78\n",
       "CROWN FRIED CHICKEN                72\n",
       "Name: restaurant_name, dtype: int64"
      ]
     },
     "execution_count": 24,
     "metadata": {},
     "output_type": "execute_result"
    }
   ],
   "source": [
    "restaurant_names.restaurant_name.value_counts().head(10)"
   ]
  },
  {
   "cell_type": "code",
   "execution_count": 25,
   "metadata": {},
   "outputs": [],
   "source": [
    "# get the list for names with duplicates\n",
    "from toolz import frequencies, valfilter\n",
    "chain_list = list(valfilter(lambda count: count > 1, frequencies(restaurant_names.restaurant_name)).keys())"
   ]
  },
  {
   "cell_type": "code",
   "execution_count": 26,
   "metadata": {},
   "outputs": [],
   "source": [
    "r_names = []\n",
    "chain = []\n",
    "for i in range(len(restaurant_attributes)):\n",
    "    tmp_name = list(restaurant_names.restaurant_name.loc[restaurant_names.id ==restaurant_attributes.restaurant_id.loc[i]])[0]\n",
    "    r_names.append(tmp_name)\n",
    "    if tmp_name in chain_list:\n",
    "        chain.append(1)\n",
    "    else: chain.append(0)"
   ]
  },
  {
   "cell_type": "code",
   "execution_count": 27,
   "metadata": {},
   "outputs": [],
   "source": [
    "restaurant_attributes['restaurant_name'] = r_names\n",
    "restaurant_attributes['chain'] = chain"
   ]
  },
  {
   "cell_type": "markdown",
   "metadata": {},
   "source": [
    "# Creating Target <a name=\"P4\"></a>\n",
    "\n",
    "The goal of this analysis is  predict which restaurant is likely to degraded to C and provide the inspectors information regarding prioritizing the inspection process. Therefore, the target I'm looking for here is when the restaurant receives a grade C. <br>\n",
    "\n",
    "However, using the violation information of the inspection resulting grade C doesn't provide any useful insights of predicting this event. Hence my strategy is to use the information of previous inspection to predict the probability of the restaurant falling to grade C in the next inspection."
   ]
  },
  {
   "cell_type": "markdown",
   "metadata": {},
   "source": [
    "### Summary of features:\n",
    "- score: (continuous int)\n",
    "- grade: (A/B/C, one-hot encoding)\n",
    "- borough: (5 items, one-hot encoding)\n",
    "- cuisine: (29 items, one-hot encoding)\n",
    "- chain: chain restaurant(1) or not (0)\n",
    "- critical: count of critial_vioation (continuous int)\n",
    "- noncritical: count of non-critical violation (continous int)\n",
    "- vio_cat_x: count of violation in each violation category (10 categories, continous int)\n",
    "- duration: number of days the restaurant hasn't been inspected (continous int)\n"
   ]
  },
  {
   "cell_type": "markdown",
   "metadata": {},
   "source": [
    "### Target: \n",
    "> 1, if the next inspection grade is C <br>\n",
    "> 0, if the next inspection grade is A or B"
   ]
  },
  {
   "cell_type": "code",
   "execution_count": 28,
   "metadata": {},
   "outputs": [],
   "source": [
    "# list of restaurants that had grade C\n",
    "restaurant_list = np.unique(restaurant_violations.restaurant_id.loc[restaurant_violations.grade=='C'])"
   ]
  },
  {
   "cell_type": "code",
   "execution_count": 29,
   "metadata": {},
   "outputs": [],
   "source": [
    "df = pd.DataFrame()\n",
    "for name in restaurant_list:\n",
    "    \n",
    "    d_frame = restaurant_violations[restaurant_violations.restaurant_id==name]\n",
    "    date_list = np.unique(d_frame.grade_date)\n",
    "    data = pd.DataFrame()\n",
    "    \n",
    "    # calculate difference in time\n",
    "    time_duration = []\n",
    "    for i in range(len(date_list)):\n",
    "        if i != len(date_list)-1:\n",
    "            time_duration.append(int((date_list[i+1]-date_list[i])/ np.timedelta64(1, 'D')))\n",
    "        else: time_duration.append(int((list(d_frame.record_date)[0]-date_list[i])/ np.timedelta64(1, 'D')))\n",
    "    \n",
    "    \n",
    "    # construct data using dictionary\n",
    "    for i in range(len(date_list)):\n",
    "        date = date_list[i]\n",
    "        sub_frame = d_frame.loc[d_frame.grade_date == date]\n",
    "    \n",
    "        # count each categories' violation number\n",
    "        cat_list = []\n",
    "        for j in violation_grid:\n",
    "            cat_list.append(sum(sub_frame.clause1 == j))\n",
    "    \n",
    "        # create data entry using dictionary \n",
    "        data_dict = {'restaurant_id': list(sub_frame.restaurant_id)[0],\n",
    "                 'grade_date': date,\n",
    "                 'score': list(sub_frame.score)[0],\n",
    "                 'grade': list(sub_frame.grade)[0],\n",
    "                 'borough': list(restaurant_attributes.borough_id.loc[restaurant_attributes.restaurant_id == list(sub_frame.restaurant_id)[0]])[0],\n",
    "                 'cuisine': list(restaurant_attributes.cuisine_name.loc[restaurant_attributes.restaurant_id == list(sub_frame.restaurant_id)[0]])[0],\n",
    "                 'chain': list(restaurant_attributes.chain.loc[restaurant_attributes.restaurant_id == list(sub_frame.restaurant_id)[0]])[0],\n",
    "                 'critical': sum(sub_frame.critical_flag =='Critical'),\n",
    "                 'noncritical': sum(sub_frame.critical_flag == 'Not Critical'),\n",
    "                 'vio_cat_1': cat_list[0],\n",
    "                 'vio_cat_2': cat_list[1],\n",
    "                 'vio_cat_3': cat_list[2],\n",
    "                 'vio_cat_4': cat_list[3],\n",
    "                 'vio_cat_5': cat_list[4],\n",
    "                 'vio_cat_6': cat_list[5],\n",
    "                 'vio_cat_7': cat_list[6],\n",
    "                 'vio_cat_8': cat_list[7],\n",
    "                 'vio_cat_9': cat_list[8],\n",
    "                 'vio_cat_10': cat_list[9],\n",
    "                 'duration': time_duration[i]\n",
    "                }\n",
    "        data = data.append(pd.DataFrame(data_dict, index=[i]),ignore_index= True)\n",
    "        \n",
    "    # get target variable by \n",
    "    target = []\n",
    "    for item in range(len(data)-1):\n",
    "        if data.grade.loc[item+1] == 'C':\n",
    "            target.append(1)\n",
    "        else: target.append(0)\n",
    "        \n",
    "    data = data[:-1]\n",
    "    data['target'] = target\n",
    "    \n",
    "    df = df.append(data, ignore_index=True)"
   ]
  },
  {
   "cell_type": "code",
   "execution_count": 30,
   "metadata": {},
   "outputs": [],
   "source": [
    "# replace the borough id with borough name\n",
    "b_name = []\n",
    "for i in range(len(df)):\n",
    "    b_name.append(list(borough_names.borough_name.loc[borough_names.id == df.borough.loc[i]])[0] )\n",
    "df.borough = b_name"
   ]
  },
  {
   "cell_type": "markdown",
   "metadata": {},
   "source": [
    "# Modeling <a name=\"P5\"></a>\n",
    "## Random Forest Classifier <a name=\"P51\"></a>"
   ]
  },
  {
   "cell_type": "code",
   "execution_count": 31,
   "metadata": {},
   "outputs": [],
   "source": [
    "# get one hot encoding for categorical variables\n",
    "cuisine_cat = pd.get_dummies(df.cuisine, prefix='Cuisine')\n",
    "cuisine_cat = cuisine_cat.drop(columns = 'Cuisine_Others')\n",
    "borough_cat = pd.get_dummies(df.borough, drop_first=True, prefix='Borough')\n",
    "grade_cat = pd.get_dummies(df.grade, drop_first=True, prefix='Grade')"
   ]
  },
  {
   "cell_type": "code",
   "execution_count": 32,
   "metadata": {},
   "outputs": [],
   "source": [
    "X = pd.concat([df.drop(['restaurant_id','grade_date','cuisine','target','borough','grade'], axis =1),cuisine_cat,borough_cat,grade_cat], axis=1)\n",
    "y = df.target\n",
    "# split data into training and testing\n",
    "X_train, X_test, y_train, y_test = train_test_split(X, y, test_size=0.25, random_state=42)"
   ]
  },
  {
   "cell_type": "code",
   "execution_count": 33,
   "metadata": {},
   "outputs": [],
   "source": [
    "rfc = RandomForestClassifier(n_estimators= 100);\n",
    "rfc.fit(X_train, y_train);"
   ]
  },
  {
   "cell_type": "code",
   "execution_count": 34,
   "metadata": {},
   "outputs": [
    {
     "name": "stdout",
     "output_type": "stream",
     "text": [
      "Accuarcy of Random Forest: 0.784\n",
      "AUC of ROC of Randowm Forest: 0.614\n"
     ]
    }
   ],
   "source": [
    "print('Accuarcy of Random Forest: '+str(round(rfc.score(X_test, y_test),3)))\n",
    "print('AUC of ROC of Randowm Forest: '+ str(round(roc_auc_score(y_test, rfc.predict_proba(X_test)[:,1]),3)))"
   ]
  },
  {
   "cell_type": "code",
   "execution_count": 44,
   "metadata": {},
   "outputs": [
    {
     "data": {
      "image/png": "[encoded data removed]",
      "text/plain": [
       "<matplotlib.figure.Figure at 0x7f0996d512e8>"
      ]
     },
     "metadata": {},
     "output_type": "display_data"
    }
   ],
   "source": [
    "features = X.keys()\n",
    "importances = rfc.feature_importances_\n",
    "indices = np.argsort(importances)\n",
    "\n",
    "f, ax = plt.subplots(1, figsize = (8,8))\n",
    "plt.title('Feature Importances')\n",
    "plt.barh(range(len(indices[-15:])), importances[indices[-15:]], color='b', align='center')\n",
    "plt.yticks(range(len(indices[-15:])), [features[i] for i in indices[-15:]])\n",
    "plt.xlabel('Relative Importance')\n",
    "plt.tight_layout()\n",
    "plt.show()"
   ]
  },
  {
   "cell_type": "markdown",
   "metadata": {},
   "source": [
    "## Logistic Regression Classifier <a name=\"P52\"></a>\n",
    "Duration is in the unit of days, which is different than the rest of categorical variables. To properly compare the coefficients of features, a standard scaler is applied to features to normalize the values."
   ]
  },
  {
   "cell_type": "code",
   "execution_count": 36,
   "metadata": {},
   "outputs": [],
   "source": [
    "# normalize the feature values\n",
    "scaler = StandardScaler()\n",
    "scaler.fit(X_train)\n",
    "\n",
    "X_train = scaler.transform(X_train)\n",
    "X_test = scaler.transform(X_test)\n",
    "\n",
    "lor = LogisticRegression();\n",
    "lor.fit(X_train, y_train);"
   ]
  },
  {
   "cell_type": "code",
   "execution_count": 37,
   "metadata": {},
   "outputs": [
    {
     "name": "stdout",
     "output_type": "stream",
     "text": [
      "Accuarcy of Logistic Regression: 0.8\n",
      "AUC of ROC of Logistic Regression: 0.625\n"
     ]
    }
   ],
   "source": [
    "print('Accuarcy of Logistic Regression: '+str(round(lor.score(X_test, y_test),3)))\n",
    "print('AUC of ROC of Logistic Regression: '+ str(round(roc_auc_score(y_test, lor.predict_proba(X_test)[:,1]),3)))"
   ]
  },
  {
   "cell_type": "code",
   "execution_count": 45,
   "metadata": {},
   "outputs": [
    {
     "data": {
      "image/png": "[encoded data removed]",
      "text/plain": [
       "<matplotlib.figure.Figure at 0x7f0996f10780>"
      ]
     },
     "metadata": {},
     "output_type": "display_data"
    }
   ],
   "source": [
    "features = X.keys()\n",
    "importances = lor.coef_[0]\n",
    "indices = np.argsort(importances)\n",
    "idx = abs(importances[indices])> np.median(abs(importances)) \n",
    "\n",
    "f, ax = plt.subplots(1, figsize = (8,8))\n",
    "plt.title('Feature Importances')\n",
    "plt.barh(range(len(indices[idx])), importances[indices][idx], color='b', align='center')\n",
    "plt.yticks(range(len(indices[idx])), features[indices][idx])\n",
    "plt.xlabel('Relative Importance')\n",
    "plt.xlim([-0.2,0.2])\n",
    "plt.tight_layout()\n",
    "plt.show()"
   ]
  },
  {
   "cell_type": "markdown",
   "metadata": {},
   "source": [
    "# Conclusion <a name=\"P6\"></a>\n",
    "\n",
    "To further investigate which features are important to the model, top 50% coefficients  from logistic regression was plotted below. The positive coefficients means when the feature value increases, the probability of target also increases, while features with negative coefficients decreased the target probability with increased value. <br>\n",
    "\n",
    "Violation in category 4 is the strongest positive predictor of logistic regression model. Category 4 is about food protection and penalize on presence of rats, mice, roaches and flies in the restaurant. This result also suggests that failure in pest control may potentially develop into  much bigger problem. Duration since last inspection and number of critical violations in the previous inspection are also among the top 3 positive predictors. This result proves my previous speculation that infrequent visit from inspectors may facilitate the downgrade of the restaurant. <br>\n",
    "\n",
    "The negative coefficients are interesting as well. A lot of cuisine types have negative coefficients, such as American, Delicatessen and Sandwiches. This result can be interpreted as the restaurants of these cuisines are more resistant to downgrade and are good at maintaining their environment and score. Grade_C has the most negative coefficient, which reflects the fact that when the restaurant reaches grade C, a lot of efforts were devoted to bring them back to better grade.\n"
   ]
  }
 ],
 "metadata": {
  "kernelspec": {
   "display_name": "Python 3",
   "language": "python",
   "name": "python3"
  },
  "language_info": {
   "codemirror_mode": {
    "name": "ipython",
    "version": 3
   },
   "file_extension": ".py",
   "mimetype": "text/x-python",
   "name": "python",
   "nbconvert_exporter": "python",
   "pygments_lexer": "ipython3",
   "version": "3.6.4"
  }
 },
 "nbformat": 4,
 "nbformat_minor": 2
}
